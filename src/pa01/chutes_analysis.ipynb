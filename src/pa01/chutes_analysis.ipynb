{
 "cells": [
  {
   "cell_type": "markdown",
   "metadata": {},
   "source": [
    "# Chutes Analysis"
   ]
  },
  {
   "cell_type": "code",
   "execution_count": null,
   "metadata": {},
   "outputs": [],
   "source": [
    "snakes_and_ladders = {1: 40,\n",
    "                      8: 10,\n",
    "                      36: 52,\n",
    "                      43: 62,\n",
    "                      49: 79,\n",
    "                      65: 82,\n",
    "                      68: 85,\n",
    "                      24: 5,\n",
    "                      33: 3,\n",
    "                      42: 30,\n",
    "                      56: 37,\n",
    "                      64: 27,\n",
    "                      74: 12,\n",
    "                      87: 70\n",
    "                      }\n",
    "\n",
    "\n",
    "def single_game(num_players):\n",
    "    \"\"\"\n",
    "    Returns duration of single game.\n",
    "\n",
    "    Source:\n",
    "    https://jakevdp.github.io/blog/2017/12/18/simulating-chutes-and-ladders/\n",
    "\n",
    "    Arguments\n",
    "    ---------\n",
    "    num_players : int\n",
    "        Number of players in the game\n",
    "\n",
    "    Returns\n",
    "    -------\n",
    "    num_moves : int\n",
    "        Number of moves the winning player needed to reach the goal\n",
    "    \"\"\"\n",
    "    import random\n",
    "    position = [0] * num_players\n",
    "    num_moves = 0\n",
    "\n",
    "    while max(position) < 90:\n",
    "        for player in range(len(position)):\n",
    "            roll = random.randint(1, 6)\n",
    "            position[player] += roll\n",
    "\n",
    "            if position[player] in snakes_and_ladders:\n",
    "                position[player] = snakes_and_ladders[position[player]]\n",
    "        num_moves += 1\n",
    "\n",
    "    return num_moves\n"
   ]
  },
  {
   "cell_type": "code",
   "execution_count": null,
   "outputs": [],
   "source": [
    "# Simulated games"
   ],
   "metadata": {
    "collapsed": false,
    "pycharm": {
     "name": "#%%\n"
    }
   }
  },
  {
   "cell_type": "code",
   "execution_count": null,
   "outputs": [],
   "source": [
    "import matplotlib.pyplot as plt\n",
    "simulated_games = [single_game(1) for i in range(10000)]\n",
    "\n",
    "plt.hist(simulated_games, histtype='step', bins=50)\n",
    "plt.xlabel('Number of turns to win')\n",
    "plt.ylabel('Amount of games')\n",
    "\n",
    "simulated_games = [single_game(2) for i in range(10000)]\n",
    "\n",
    "plt.hist(simulated_games, histtype='step', bins=50)\n",
    "plt.xlabel('Number of turns to win')\n",
    "plt.ylabel('Amount of games')\n",
    "\n",
    "simulated_games = [single_game(4) for i in range(10000)]\n",
    "\n",
    "plt.hist(simulated_games, histtype='step', bins=50)\n",
    "plt.xlabel('Number of turns to win')\n",
    "plt.ylabel('Amount of games')\n",
    "\n",
    "simulated_games = [single_game(8) for i in range(10000)]\n",
    "\n",
    "plt.hist(simulated_games, histtype='step', bins=50)\n",
    "plt.xlabel('Number of turns to win')\n",
    "plt.ylabel('Amount of games')\n"
   ],
   "metadata": {
    "collapsed": false,
    "pycharm": {
     "name": "#%%\n"
    }
   }
  }
 ],
 "metadata": {
  "kernelspec": {
   "display_name": "Python 3",
   "language": "python",
   "name": "python3"
  },
  "language_info": {
   "codemirror_mode": {
    "name": "ipython",
    "version": 3
   },
   "file_extension": ".py",
   "mimetype": "text/x-python",
   "name": "python",
   "nbconvert_exporter": "python",
   "pygments_lexer": "ipython3",
   "version": "3.7.3"
  },
  "pycharm": {
   "stem_cell": {
    "cell_type": "raw",
    "source": [],
    "metadata": {
     "collapsed": false
    }
   }
  }
 },
 "nbformat": 4,
 "nbformat_minor": 2
}